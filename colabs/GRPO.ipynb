{
  "cells": [
    {
      "cell_type": "markdown",
      "metadata": {
        "id": "view-in-github",
        "colab_type": "text"
      },
      "source": [
        "<a href=\"https://colab.research.google.com/github/nam-2pir/docs/blob/main/colabs/GRPO.ipynb\" target=\"_parent\"><img src=\"https://colab.research.google.com/assets/colab-badge.svg\" alt=\"Open In Colab\"/></a>"
      ]
    },
    {
      "cell_type": "markdown",
      "metadata": {
        "id": "pi-masthead"
      },
      "source": [
        "<a href=\"https://withpi.ai\"><img src=\"https://withpi.ai/logoFullBlack.svg\" width=\"240\"></a>\n",
        "\n",
        "<a href=\"https://code.withpi.ai\"><font size=\"4\">Documentation</font></a>\n",
        "\n",
        "<a href=\"https://play.withpi.ai\"><font size=\"4\">Technique Catalog</font></a>"
      ]
    },
    {
      "cell_type": "markdown",
      "metadata": {
        "id": "Bwm4tjdnedp6"
      },
      "source": [
        "# Reinforcement Learning GRPO\n",
        "\n",
        "This is the companion to the RL playground\n",
        "\n",
        "Description: Train models to more deeply learn patterns from your data."
      ]
    },
    {
      "cell_type": "markdown",
      "metadata": {
        "id": "pi-setup-markdown"
      },
      "source": [
        "## Install and initialize SDK\n",
        "\n",
        "You'll need a WITHPI_API_KEY from https://play.withpi.ai.  Add it to your notebook secrets (the key symbol) on the left.\n",
        "\n",
        "Run the cells below to install packages and load the SDK"
      ]
    },
    {
      "cell_type": "code",
      "execution_count": 1,
      "metadata": {
        "id": "lcxEh6kjjkj2"
      },
      "outputs": [],
      "source": [
        "%%capture\n",
        "%pip install withpi httpx datasets tqdm"
      ]
    },
    {
      "cell_type": "code",
      "execution_count": 64,
      "metadata": {
        "id": "pi-setup"
      },
      "outputs": [],
      "source": [
        "import os\n",
        "import json\n",
        "from pathlib import Path\n",
        "from collections import defaultdict\n",
        "\n",
        "import datasets\n",
        "import httpx\n",
        "from google.colab import files, userdata\n",
        "from withpi import PiClient\n",
        "from withpi.types import Contract\n",
        "\n",
        "from rich.console import Console\n",
        "from rich.table import Table\n",
        "from rich.live import Live\n",
        "\n",
        "console = Console()\n",
        "\n",
        "\n",
        "# Load the notebook secret into the environment so the Pi Client can access it.\n",
        "os.environ[\"WITHPI_API_KEY\"] = userdata.get(\"WITHPI_API_KEY\")\n",
        "client = PiClient()\n",
        "\n",
        "\n",
        "def print_contract(contract: Contract):\n",
        "    \"\"\"print_contract pretty-prints a contract\"\"\"\n",
        "    for dimension in contract.dimensions:\n",
        "        print(dimension.label)\n",
        "        for sub_dimension in dimension.sub_dimensions:\n",
        "            print(f\"\\t{sub_dimension.description}\")\n",
        "\n",
        "\n",
        "def print_scores(pi_scores):\n",
        "    \"\"\"print_scores pretty-prints a Pi Score response as a table.\"\"\"\n",
        "    for dimension_name, dimension_scores in pi_scores.dimension_scores.items():\n",
        "        print(f\"{dimension_name}: {dimension_scores.total_score}\")\n",
        "        for (\n",
        "            subdimension_name,\n",
        "            subdimension_score,\n",
        "        ) in dimension_scores.subdimension_scores.items():\n",
        "            print(f\"\\t{subdimension_name}: {subdimension_score}\")\n",
        "        print(\"\\n\")\n",
        "    print(\"---------------------\")\n",
        "    print(f\"Total score: {pi_scores.total_score}\")\n",
        "\n",
        "\n",
        "def save_file(filename: str, model: str):\n",
        "    \"\"\"save_file offers to download the model with the given filename\"\"\"\n",
        "    Path(filename).write_text(model)\n",
        "    files.download(filename)\n",
        "\n",
        "\n",
        "def load_contract(url: str) -> Contract:\n",
        "    \"\"\"load_contract pulls a Contract JSON blob locally with validation.\"\"\"\n",
        "    resp = httpx.get(url)\n",
        "    return Contract.model_validate_json(resp.content)\n",
        "\n",
        "\n",
        "def generate_table(\n",
        "    job_id: str, training_data: dict, is_done: bool, additional_columns: dict[str, str]\n",
        "):\n",
        "    \"\"\"Generate a training progress table dynamically.\"\"\"\n",
        "    table = Table(title=f\"Training Status for {job_id}\")\n",
        "\n",
        "    # Define columns\n",
        "    table.add_column(\"Step\", justify=\"right\", style=\"cyan\")\n",
        "    table.add_column(\"Epoch\", justify=\"right\", style=\"cyan\")\n",
        "    table.add_column(\"Learning Rate\", justify=\"right\", style=\"cyan\")\n",
        "    table.add_column(\"Train Loss\", justify=\"right\", style=\"magenta\")\n",
        "    table.add_column(\"Eval Loss\", justify=\"right\", style=\"green\")\n",
        "    for header in additional_columns.keys():\n",
        "        table.add_column(header, justify=\"right\", style=\"black\")\n",
        "\n",
        "    def format_num(num: float | None, digits: int = 4) -> str:\n",
        "        if num is None:\n",
        "            return \"X\"\n",
        "        return format(num, f\".{digits}f\")\n",
        "\n",
        "    for step, data in training_data.items():\n",
        "        additional_columns_data = [\n",
        "            format_num(data.get(column_name, None))\n",
        "            for column_name in additional_columns.values()\n",
        "        ]\n",
        "        table.add_row(\n",
        "            str(step),\n",
        "            format_num(data.get(\"epoch\", None)),\n",
        "            format_num(data.get(\"learning_rate\", None), digits=10),\n",
        "            format_num(data.get(\"loss\", None)),\n",
        "            format_num(data.get(\"eval_loss\", None)),\n",
        "            *additional_columns_data,\n",
        "        )\n",
        "\n",
        "    if not is_done:\n",
        "        table.add_row(\"...\", \"\", \"\", \"\", \"\", \"\")\n",
        "\n",
        "    return table\n",
        "\n",
        "\n",
        "def stream_response(job_id: str, method, additional_columns: dict[str, str]):\n",
        "    \"\"\"stream_response streams messages from the provided method\n",
        "\n",
        "    method should be a Pi client object with `retrieve` and `stream_messages`\n",
        "    endpoints.  This is primarily for convenience.\"\"\"\n",
        "\n",
        "    training_data = defaultdict(dict)\n",
        "    is_log_console = False\n",
        "\n",
        "    while True:\n",
        "        response = method.retrieve(job_id=job_id)\n",
        "        if (response.state != \"QUEUED\") and (response.state != \"RUNNING\"):\n",
        "            if response.state == \"DONE\" and not is_log_console:\n",
        "                for line in response.detailed_status:\n",
        "                    try:\n",
        "                        data_dict = json.loads(line)\n",
        "                        training_data[data_dict[\"step\"]].update(data_dict)\n",
        "                    except Exception:\n",
        "                        pass\n",
        "                console.print(\n",
        "                    generate_table(\n",
        "                        job_id,\n",
        "                        training_data,\n",
        "                        is_done=True,\n",
        "                        additional_columns=additional_columns,\n",
        "                    )\n",
        "                )\n",
        "            return response\n",
        "\n",
        "        with method.with_streaming_response.stream_messages(\n",
        "            job_id=job_id, timeout=None\n",
        "        ) as response:\n",
        "            with Live(auto_refresh=True, console=console, refresh_per_second=4) as live:\n",
        "                is_done = False\n",
        "                for line in response.iter_lines():\n",
        "                    if line == \"DONE\":\n",
        "                        is_done = True\n",
        "                    try:\n",
        "                        data_dict = json.loads(line)\n",
        "                        training_data[data_dict[\"step\"]].update(data_dict)\n",
        "                    except Exception:\n",
        "                        pass\n",
        "                    live.update(\n",
        "                        generate_table(\n",
        "                            job_id,\n",
        "                            training_data,\n",
        "                            is_done,\n",
        "                            additional_columns=additional_columns,\n",
        "                        )\n",
        "                    )\n",
        "                    is_log_console = True"
      ]
    },
    {
      "cell_type": "markdown",
      "metadata": {
        "id": "s7RRO3iXjYbY"
      },
      "source": [
        "# Load a contract and dataset\n",
        "\n",
        "We have a pre-existing contract you can play with.\n"
      ]
    },
    {
      "cell_type": "code",
      "execution_count": 51,
      "metadata": {
        "colab": {
          "base_uri": "https://localhost:8080/"
        },
        "id": "oXJmb89i5iN5",
        "outputId": "e53f51ec-fb8d-4d4b-f2ce-69e88b69e361"
      },
      "outputs": [
        {
          "output_type": "stream",
          "name": "stdout",
          "text": [
            "Dataset({\n",
            "    features: ['prompt', 'completion'],\n",
            "    num_rows: 1200\n",
            "})\n"
          ]
        }
      ],
      "source": [
        "import datasets\n",
        "\n",
        "tldr_contract = load_contract(\n",
        "    \"https://raw.githubusercontent.com/withpi/cookbook-withpi/refs/heads/main/contracts/tldr.json\"\n",
        ")\n",
        "\n",
        "num_examples = 1200\n",
        "tldr_data = datasets.load_dataset(\"withpi/tldr\")[\"train\"].select(range(num_examples))\n",
        "\n",
        "print(tldr_data)"
      ]
    },
    {
      "cell_type": "markdown",
      "metadata": {
        "id": "j1FAoBqU7dwf"
      },
      "source": [
        "## Kick off the job\n",
        "\n",
        "The GRPO job internally performs a 90/10 train-test split, which is why the loader is not splitting the input data.\n",
        "\n",
        "This process takes a while, please be patient as a cloud GPU is aquired, fine tuning is performed, and a result is returned."
      ]
    },
    {
      "cell_type": "code",
      "execution_count": null,
      "metadata": {
        "id": "mvhTP20ijfNO"
      },
      "outputs": [],
      "source": [
        "status = client.model.rl.grpo.start_job(\n",
        "    contract=tldr_contract,\n",
        "    examples=[{\"llm_input\": row[\"prompt\"]} for row in tldr_data],\n",
        "    model=\"LLAMA_3.2_1B\",\n",
        "    num_train_epochs=5,\n",
        ")\n",
        "print(status)"
      ]
    },
    {
      "cell_type": "code",
      "execution_count": null,
      "metadata": {
        "colab": {
          "base_uri": "https://localhost:8080/",
          "height": 225,
          "referenced_widgets": [
            "33988199c5774bfda65749ef2bc745cf",
            "66f64b3870614104871f061e71993570"
          ]
        },
        "id": "WhJrCijJ8I2n",
        "outputId": "7be558de-4c99-4d07-d5f9-c5c5bc3c5ef9"
      },
      "outputs": [
        {
          "output_type": "display_data",
          "data": {
            "text/plain": [
              "Output()"
            ],
            "application/vnd.jupyter.widget-view+json": {
              "version_major": 2,
              "version_minor": 0,
              "model_id": "33988199c5774bfda65749ef2bc745cf"
            }
          },
          "metadata": {}
        }
      ],
      "source": [
        "response = stream_response(\n",
        "    # status.job_id,\n",
        "    \"rl_grpo_jobs:96b4d59e-16c1-4dee-beb3-f393ec9b854d\",\n",
        "    client.model.rl.grpo,\n",
        "    additional_columns={\n",
        "        \"Train Pi Reward\": \"rewards/pi_reward_func\",\n",
        "        \"Train Std Reward\": \"reward_std\",\n",
        "        \"Eval Pi Reward\": \"eval_rewards/pi_reward_func\",\n",
        "        \"Eval Std Reward\": \"eval_reward_std\",\n",
        "        \"Train KL\": \"kl\",\n",
        "        \"Eval KL\": \"eval_kl\",\n",
        "        \"Train Completion Length\": \"completion_length\",\n",
        "        \"Eval Completion Length\": \"eval_completion_length\",\n",
        "    },\n",
        ")\n",
        "print(\"GRPO model = {}\".format(response.trained_models[0].model_dump_json(indent=2)))\n",
        "repo_name = response.trained_models[0].hf_model_name"
      ]
    }
  ],
  "metadata": {
    "colab": {
      "provenance": [],
      "include_colab_link": true
    },
    "kernelspec": {
      "display_name": ".venv",
      "language": "python",
      "name": "python3"
    },
    "language_info": {
      "codemirror_mode": {
        "name": "ipython",
        "version": 3
      },
      "file_extension": ".py",
      "mimetype": "text/x-python",
      "name": "python",
      "nbconvert_exporter": "python",
      "pygments_lexer": "ipython3",
      "version": "3.11.9"
    },
    "widgets": {
      "application/vnd.jupyter.widget-state+json": {
        "33988199c5774bfda65749ef2bc745cf": {
          "model_module": "@jupyter-widgets/output",
          "model_name": "OutputModel",
          "model_module_version": "1.0.0",
          "state": {
            "_dom_classes": [],
            "_model_module": "@jupyter-widgets/output",
            "_model_module_version": "1.0.0",
            "_model_name": "OutputModel",
            "_view_count": null,
            "_view_module": "@jupyter-widgets/output",
            "_view_module_version": "1.0.0",
            "_view_name": "OutputView",
            "layout": "IPY_MODEL_66f64b3870614104871f061e71993570",
            "msg_id": "c1858899-3364-47a3-bc14-76af445bf331",
            "outputs": [
              {
                "output_type": "display_data",
                "data": {
                  "text/plain": "\u001b[3m                       Training Status for rl_grpo_jobs:96b4d59e-16c1-4dee-beb3-f393ec9b854d                       \u001b[0m\n┏━━━━━━┳━━━━━━━━┳━━━━━━━━┳━━━━━━━━┳━━━━━━━━┳━━━━━━━━┳━━━━━━━━┳━━━━━━━━┳━━━━━━━━┳━━━━━━━━┳━━━━━━━━┳━━━━━━━━┳━━━━━━━┓\n┃\u001b[1m      \u001b[0m┃\u001b[1m        \u001b[0m┃\u001b[1m        \u001b[0m┃\u001b[1m        \u001b[0m┃\u001b[1m        \u001b[0m┃\u001b[1m \u001b[0m\u001b[1m Train\u001b[0m\u001b[1m \u001b[0m┃\u001b[1m \u001b[0m\u001b[1m Train\u001b[0m\u001b[1m \u001b[0m┃\u001b[1m \u001b[0m\u001b[1m  Eval\u001b[0m\u001b[1m \u001b[0m┃\u001b[1m \u001b[0m\u001b[1m  Eval\u001b[0m\u001b[1m \u001b[0m┃\u001b[1m        \u001b[0m┃\u001b[1m        \u001b[0m┃\u001b[1m \u001b[0m\u001b[1m Train\u001b[0m\u001b[1m \u001b[0m┃\u001b[1m \u001b[0m\u001b[1m Eval\u001b[0m\u001b[1m \u001b[0m┃\n┃\u001b[1m      \u001b[0m┃\u001b[1m        \u001b[0m┃\u001b[1m \u001b[0m\u001b[1mLearn…\u001b[0m\u001b[1m \u001b[0m┃\u001b[1m \u001b[0m\u001b[1m Train\u001b[0m\u001b[1m \u001b[0m┃\u001b[1m \u001b[0m\u001b[1m  Eval\u001b[0m\u001b[1m \u001b[0m┃\u001b[1m \u001b[0m\u001b[1m    Pi\u001b[0m\u001b[1m \u001b[0m┃\u001b[1m \u001b[0m\u001b[1m   Std\u001b[0m\u001b[1m \u001b[0m┃\u001b[1m \u001b[0m\u001b[1m    Pi\u001b[0m\u001b[1m \u001b[0m┃\u001b[1m \u001b[0m\u001b[1m   Std\u001b[0m\u001b[1m \u001b[0m┃\u001b[1m \u001b[0m\u001b[1m Train\u001b[0m\u001b[1m \u001b[0m┃\u001b[1m \u001b[0m\u001b[1m  Eval\u001b[0m\u001b[1m \u001b[0m┃\u001b[1m \u001b[0m\u001b[1mCompl…\u001b[0m\u001b[1m \u001b[0m┃\u001b[1m \u001b[0m\u001b[1mComp…\u001b[0m\u001b[1m \u001b[0m┃\n┃\u001b[1m \u001b[0m\u001b[1mStep\u001b[0m\u001b[1m \u001b[0m┃\u001b[1m \u001b[0m\u001b[1m Epoch\u001b[0m\u001b[1m \u001b[0m┃\u001b[1m \u001b[0m\u001b[1m  Rate\u001b[0m\u001b[1m \u001b[0m┃\u001b[1m \u001b[0m\u001b[1m  Loss\u001b[0m\u001b[1m \u001b[0m┃\u001b[1m \u001b[0m\u001b[1m  Loss\u001b[0m\u001b[1m \u001b[0m┃\u001b[1m \u001b[0m\u001b[1mReward\u001b[0m\u001b[1m \u001b[0m┃\u001b[1m \u001b[0m\u001b[1mReward\u001b[0m\u001b[1m \u001b[0m┃\u001b[1m \u001b[0m\u001b[1mReward\u001b[0m\u001b[1m \u001b[0m┃\u001b[1m \u001b[0m\u001b[1mReward\u001b[0m\u001b[1m \u001b[0m┃\u001b[1m \u001b[0m\u001b[1m    KL\u001b[0m\u001b[1m \u001b[0m┃\u001b[1m \u001b[0m\u001b[1m    KL\u001b[0m\u001b[1m \u001b[0m┃\u001b[1m \u001b[0m\u001b[1mLength\u001b[0m\u001b[1m \u001b[0m┃\u001b[1m \u001b[0m\u001b[1mLeng…\u001b[0m\u001b[1m \u001b[0m┃\n┡━━━━━━╇━━━━━━━━╇━━━━━━━━╇━━━━━━━━╇━━━━━━━━╇━━━━━━━━╇━━━━━━━━╇━━━━━━━━╇━━━━━━━━╇━━━━━━━━╇━━━━━━━━╇━━━━━━━━╇━━━━━━━┩\n│\u001b[36m \u001b[0m\u001b[36m  67\u001b[0m\u001b[36m \u001b[0m│\u001b[36m \u001b[0m\u001b[36m0.2481\u001b[0m\u001b[36m \u001b[0m│\u001b[36m \u001b[0m\u001b[36m0.000…\u001b[0m\u001b[36m \u001b[0m│\u001b[35m \u001b[0m\u001b[35m0.0015\u001b[0m\u001b[35m \u001b[0m│\u001b[32m \u001b[0m\u001b[32m     X\u001b[0m\u001b[32m \u001b[0m│\u001b[30m \u001b[0m\u001b[30m0.7693\u001b[0m\u001b[30m \u001b[0m│\u001b[30m \u001b[0m\u001b[30m0.0617\u001b[0m\u001b[30m \u001b[0m│\u001b[30m \u001b[0m\u001b[30m     X\u001b[0m\u001b[30m \u001b[0m│\u001b[30m \u001b[0m\u001b[30m     X\u001b[0m\u001b[30m \u001b[0m│\u001b[30m \u001b[0m\u001b[30m0.0381\u001b[0m\u001b[30m \u001b[0m│\u001b[30m \u001b[0m\u001b[30m     X\u001b[0m\u001b[30m \u001b[0m│\u001b[30m \u001b[0m\u001b[30m351.1…\u001b[0m\u001b[30m \u001b[0m│\u001b[30m \u001b[0m\u001b[30m    X\u001b[0m\u001b[30m \u001b[0m│\n│\u001b[36m \u001b[0m\u001b[36m 134\u001b[0m\u001b[36m \u001b[0m│\u001b[36m \u001b[0m\u001b[36m0.4963\u001b[0m\u001b[36m \u001b[0m│\u001b[36m \u001b[0m\u001b[36m0.000…\u001b[0m\u001b[36m \u001b[0m│\u001b[35m \u001b[0m\u001b[35m0.0031\u001b[0m\u001b[35m \u001b[0m│\u001b[32m \u001b[0m\u001b[32m0.0028\u001b[0m\u001b[32m \u001b[0m│\u001b[30m \u001b[0m\u001b[30m0.7697\u001b[0m\u001b[30m \u001b[0m│\u001b[30m \u001b[0m\u001b[30m0.0660\u001b[0m\u001b[30m \u001b[0m│\u001b[30m \u001b[0m\u001b[30m0.7798\u001b[0m\u001b[30m \u001b[0m│\u001b[30m \u001b[0m\u001b[30m0.0569\u001b[0m\u001b[30m \u001b[0m│\u001b[30m \u001b[0m\u001b[30m0.0786\u001b[0m\u001b[30m \u001b[0m│\u001b[30m \u001b[0m\u001b[30m0.0691\u001b[0m\u001b[30m \u001b[0m│\u001b[30m \u001b[0m\u001b[30m317.4…\u001b[0m\u001b[30m \u001b[0m│\u001b[30m \u001b[0m\u001b[30m316.…\u001b[0m\u001b[30m \u001b[0m│\n│\u001b[36m \u001b[0m\u001b[36m 201\u001b[0m\u001b[36m \u001b[0m│\u001b[36m \u001b[0m\u001b[36m0.7444\u001b[0m\u001b[36m \u001b[0m│\u001b[36m \u001b[0m\u001b[36m0.000…\u001b[0m\u001b[36m \u001b[0m│\u001b[35m \u001b[0m\u001b[35m0.0061\u001b[0m\u001b[35m \u001b[0m│\u001b[32m \u001b[0m\u001b[32m     X\u001b[0m\u001b[32m \u001b[0m│\u001b[30m \u001b[0m\u001b[30m0.7732\u001b[0m\u001b[30m \u001b[0m│\u001b[30m \u001b[0m\u001b[30m0.0603\u001b[0m\u001b[30m \u001b[0m│\u001b[30m \u001b[0m\u001b[30m     X\u001b[0m\u001b[30m \u001b[0m│\u001b[30m \u001b[0m\u001b[30m     X\u001b[0m\u001b[30m \u001b[0m│\u001b[30m \u001b[0m\u001b[30m0.1529\u001b[0m\u001b[30m \u001b[0m│\u001b[30m \u001b[0m\u001b[30m     X\u001b[0m\u001b[30m \u001b[0m│\u001b[30m \u001b[0m\u001b[30m337.0…\u001b[0m\u001b[30m \u001b[0m│\u001b[30m \u001b[0m\u001b[30m    X\u001b[0m\u001b[30m \u001b[0m│\n│\u001b[36m \u001b[0m\u001b[36m 268\u001b[0m\u001b[36m \u001b[0m│\u001b[36m \u001b[0m\u001b[36m0.9926\u001b[0m\u001b[36m \u001b[0m│\u001b[36m \u001b[0m\u001b[36m0.000…\u001b[0m\u001b[36m \u001b[0m│\u001b[35m \u001b[0m\u001b[35m0.0023\u001b[0m\u001b[35m \u001b[0m│\u001b[32m \u001b[0m\u001b[32m0.0036\u001b[0m\u001b[32m \u001b[0m│\u001b[30m \u001b[0m\u001b[30m0.7869\u001b[0m\u001b[30m \u001b[0m│\u001b[30m \u001b[0m\u001b[30m0.0499\u001b[0m\u001b[30m \u001b[0m│\u001b[30m \u001b[0m\u001b[30m0.7920\u001b[0m\u001b[30m \u001b[0m│\u001b[30m \u001b[0m\u001b[30m0.0501\u001b[0m\u001b[30m \u001b[0m│\u001b[30m \u001b[0m\u001b[30m0.0571\u001b[0m\u001b[30m \u001b[0m│\u001b[30m \u001b[0m\u001b[30m0.0912\u001b[0m\u001b[30m \u001b[0m│\u001b[30m \u001b[0m\u001b[30m365.0…\u001b[0m\u001b[30m \u001b[0m│\u001b[30m \u001b[0m\u001b[30m400.…\u001b[0m\u001b[30m \u001b[0m│\n│\u001b[36m \u001b[0m\u001b[36m 335\u001b[0m\u001b[36m \u001b[0m│\u001b[36m \u001b[0m\u001b[36m1.2407\u001b[0m\u001b[36m \u001b[0m│\u001b[36m \u001b[0m\u001b[36m0.000…\u001b[0m\u001b[36m \u001b[0m│\u001b[35m \u001b[0m\u001b[35m0.0024\u001b[0m\u001b[35m \u001b[0m│\u001b[32m \u001b[0m\u001b[32m     X\u001b[0m\u001b[32m \u001b[0m│\u001b[30m \u001b[0m\u001b[30m0.7854\u001b[0m\u001b[30m \u001b[0m│\u001b[30m \u001b[0m\u001b[30m0.0507\u001b[0m\u001b[30m \u001b[0m│\u001b[30m \u001b[0m\u001b[30m     X\u001b[0m\u001b[30m \u001b[0m│\u001b[30m \u001b[0m\u001b[30m     X\u001b[0m\u001b[30m \u001b[0m│\u001b[30m \u001b[0m\u001b[30m0.0589\u001b[0m\u001b[30m \u001b[0m│\u001b[30m \u001b[0m\u001b[30m     X\u001b[0m\u001b[30m \u001b[0m│\u001b[30m \u001b[0m\u001b[30m370.9…\u001b[0m\u001b[30m \u001b[0m│\u001b[30m \u001b[0m\u001b[30m    X\u001b[0m\u001b[30m \u001b[0m│\n│\u001b[36m \u001b[0m\u001b[36m ...\u001b[0m\u001b[36m \u001b[0m│\u001b[36m \u001b[0m\u001b[36m      \u001b[0m\u001b[36m \u001b[0m│\u001b[36m \u001b[0m\u001b[36m      \u001b[0m\u001b[36m \u001b[0m│\u001b[35m \u001b[0m\u001b[35m      \u001b[0m\u001b[35m \u001b[0m│\u001b[32m \u001b[0m\u001b[32m      \u001b[0m\u001b[32m \u001b[0m│\u001b[30m \u001b[0m\u001b[30m      \u001b[0m\u001b[30m \u001b[0m│\u001b[30m \u001b[0m\u001b[30m      \u001b[0m\u001b[30m \u001b[0m│\u001b[30m \u001b[0m\u001b[30m      \u001b[0m\u001b[30m \u001b[0m│\u001b[30m \u001b[0m\u001b[30m      \u001b[0m\u001b[30m \u001b[0m│\u001b[30m \u001b[0m\u001b[30m      \u001b[0m\u001b[30m \u001b[0m│\u001b[30m \u001b[0m\u001b[30m      \u001b[0m\u001b[30m \u001b[0m│\u001b[30m \u001b[0m\u001b[30m      \u001b[0m\u001b[30m \u001b[0m│\u001b[30m \u001b[0m\u001b[30m     \u001b[0m\u001b[30m \u001b[0m│\n└──────┴────────┴────────┴────────┴────────┴────────┴────────┴────────┴────────┴────────┴────────┴────────┴───────┘\n",
                  "text/html": "<pre style=\"white-space:pre;overflow-x:auto;line-height:normal;font-family:Menlo,'DejaVu Sans Mono',consolas,'Courier New',monospace\"><span style=\"font-style: italic\">                       Training Status for rl_grpo_jobs:96b4d59e-16c1-4dee-beb3-f393ec9b854d                       </span>\n┏━━━━━━┳━━━━━━━━┳━━━━━━━━┳━━━━━━━━┳━━━━━━━━┳━━━━━━━━┳━━━━━━━━┳━━━━━━━━┳━━━━━━━━┳━━━━━━━━┳━━━━━━━━┳━━━━━━━━┳━━━━━━━┓\n┃<span style=\"font-weight: bold\">      </span>┃<span style=\"font-weight: bold\">        </span>┃<span style=\"font-weight: bold\">        </span>┃<span style=\"font-weight: bold\">        </span>┃<span style=\"font-weight: bold\">        </span>┃<span style=\"font-weight: bold\">  Train </span>┃<span style=\"font-weight: bold\">  Train </span>┃<span style=\"font-weight: bold\">   Eval </span>┃<span style=\"font-weight: bold\">   Eval </span>┃<span style=\"font-weight: bold\">        </span>┃<span style=\"font-weight: bold\">        </span>┃<span style=\"font-weight: bold\">  Train </span>┃<span style=\"font-weight: bold\">  Eval </span>┃\n┃<span style=\"font-weight: bold\">      </span>┃<span style=\"font-weight: bold\">        </span>┃<span style=\"font-weight: bold\"> Learn… </span>┃<span style=\"font-weight: bold\">  Train </span>┃<span style=\"font-weight: bold\">   Eval </span>┃<span style=\"font-weight: bold\">     Pi </span>┃<span style=\"font-weight: bold\">    Std </span>┃<span style=\"font-weight: bold\">     Pi </span>┃<span style=\"font-weight: bold\">    Std </span>┃<span style=\"font-weight: bold\">  Train </span>┃<span style=\"font-weight: bold\">   Eval </span>┃<span style=\"font-weight: bold\"> Compl… </span>┃<span style=\"font-weight: bold\"> Comp… </span>┃\n┃<span style=\"font-weight: bold\"> Step </span>┃<span style=\"font-weight: bold\">  Epoch </span>┃<span style=\"font-weight: bold\">   Rate </span>┃<span style=\"font-weight: bold\">   Loss </span>┃<span style=\"font-weight: bold\">   Loss </span>┃<span style=\"font-weight: bold\"> Reward </span>┃<span style=\"font-weight: bold\"> Reward </span>┃<span style=\"font-weight: bold\"> Reward </span>┃<span style=\"font-weight: bold\"> Reward </span>┃<span style=\"font-weight: bold\">     KL </span>┃<span style=\"font-weight: bold\">     KL </span>┃<span style=\"font-weight: bold\"> Length </span>┃<span style=\"font-weight: bold\"> Leng… </span>┃\n┡━━━━━━╇━━━━━━━━╇━━━━━━━━╇━━━━━━━━╇━━━━━━━━╇━━━━━━━━╇━━━━━━━━╇━━━━━━━━╇━━━━━━━━╇━━━━━━━━╇━━━━━━━━╇━━━━━━━━╇━━━━━━━┩\n│<span style=\"color: #008080; text-decoration-color: #008080\">   67 </span>│<span style=\"color: #008080; text-decoration-color: #008080\"> 0.2481 </span>│<span style=\"color: #008080; text-decoration-color: #008080\"> 0.000… </span>│<span style=\"color: #800080; text-decoration-color: #800080\"> 0.0015 </span>│<span style=\"color: #008000; text-decoration-color: #008000\">      X </span>│<span style=\"color: #000000; text-decoration-color: #000000\"> 0.7693 </span>│<span style=\"color: #000000; text-decoration-color: #000000\"> 0.0617 </span>│<span style=\"color: #000000; text-decoration-color: #000000\">      X </span>│<span style=\"color: #000000; text-decoration-color: #000000\">      X </span>│<span style=\"color: #000000; text-decoration-color: #000000\"> 0.0381 </span>│<span style=\"color: #000000; text-decoration-color: #000000\">      X </span>│<span style=\"color: #000000; text-decoration-color: #000000\"> 351.1… </span>│<span style=\"color: #000000; text-decoration-color: #000000\">     X </span>│\n│<span style=\"color: #008080; text-decoration-color: #008080\">  134 </span>│<span style=\"color: #008080; text-decoration-color: #008080\"> 0.4963 </span>│<span style=\"color: #008080; text-decoration-color: #008080\"> 0.000… </span>│<span style=\"color: #800080; text-decoration-color: #800080\"> 0.0031 </span>│<span style=\"color: #008000; text-decoration-color: #008000\"> 0.0028 </span>│<span style=\"color: #000000; text-decoration-color: #000000\"> 0.7697 </span>│<span style=\"color: #000000; text-decoration-color: #000000\"> 0.0660 </span>│<span style=\"color: #000000; text-decoration-color: #000000\"> 0.7798 </span>│<span style=\"color: #000000; text-decoration-color: #000000\"> 0.0569 </span>│<span style=\"color: #000000; text-decoration-color: #000000\"> 0.0786 </span>│<span style=\"color: #000000; text-decoration-color: #000000\"> 0.0691 </span>│<span style=\"color: #000000; text-decoration-color: #000000\"> 317.4… </span>│<span style=\"color: #000000; text-decoration-color: #000000\"> 316.… </span>│\n│<span style=\"color: #008080; text-decoration-color: #008080\">  201 </span>│<span style=\"color: #008080; text-decoration-color: #008080\"> 0.7444 </span>│<span style=\"color: #008080; text-decoration-color: #008080\"> 0.000… </span>│<span style=\"color: #800080; text-decoration-color: #800080\"> 0.0061 </span>│<span style=\"color: #008000; text-decoration-color: #008000\">      X </span>│<span style=\"color: #000000; text-decoration-color: #000000\"> 0.7732 </span>│<span style=\"color: #000000; text-decoration-color: #000000\"> 0.0603 </span>│<span style=\"color: #000000; text-decoration-color: #000000\">      X </span>│<span style=\"color: #000000; text-decoration-color: #000000\">      X </span>│<span style=\"color: #000000; text-decoration-color: #000000\"> 0.1529 </span>│<span style=\"color: #000000; text-decoration-color: #000000\">      X </span>│<span style=\"color: #000000; text-decoration-color: #000000\"> 337.0… </span>│<span style=\"color: #000000; text-decoration-color: #000000\">     X </span>│\n│<span style=\"color: #008080; text-decoration-color: #008080\">  268 </span>│<span style=\"color: #008080; text-decoration-color: #008080\"> 0.9926 </span>│<span style=\"color: #008080; text-decoration-color: #008080\"> 0.000… </span>│<span style=\"color: #800080; text-decoration-color: #800080\"> 0.0023 </span>│<span style=\"color: #008000; text-decoration-color: #008000\"> 0.0036 </span>│<span style=\"color: #000000; text-decoration-color: #000000\"> 0.7869 </span>│<span style=\"color: #000000; text-decoration-color: #000000\"> 0.0499 </span>│<span style=\"color: #000000; text-decoration-color: #000000\"> 0.7920 </span>│<span style=\"color: #000000; text-decoration-color: #000000\"> 0.0501 </span>│<span style=\"color: #000000; text-decoration-color: #000000\"> 0.0571 </span>│<span style=\"color: #000000; text-decoration-color: #000000\"> 0.0912 </span>│<span style=\"color: #000000; text-decoration-color: #000000\"> 365.0… </span>│<span style=\"color: #000000; text-decoration-color: #000000\"> 400.… </span>│\n│<span style=\"color: #008080; text-decoration-color: #008080\">  335 </span>│<span style=\"color: #008080; text-decoration-color: #008080\"> 1.2407 </span>│<span style=\"color: #008080; text-decoration-color: #008080\"> 0.000… </span>│<span style=\"color: #800080; text-decoration-color: #800080\"> 0.0024 </span>│<span style=\"color: #008000; text-decoration-color: #008000\">      X </span>│<span style=\"color: #000000; text-decoration-color: #000000\"> 0.7854 </span>│<span style=\"color: #000000; text-decoration-color: #000000\"> 0.0507 </span>│<span style=\"color: #000000; text-decoration-color: #000000\">      X </span>│<span style=\"color: #000000; text-decoration-color: #000000\">      X </span>│<span style=\"color: #000000; text-decoration-color: #000000\"> 0.0589 </span>│<span style=\"color: #000000; text-decoration-color: #000000\">      X </span>│<span style=\"color: #000000; text-decoration-color: #000000\"> 370.9… </span>│<span style=\"color: #000000; text-decoration-color: #000000\">     X </span>│\n│<span style=\"color: #008080; text-decoration-color: #008080\">  ... </span>│<span style=\"color: #008080; text-decoration-color: #008080\">        </span>│<span style=\"color: #008080; text-decoration-color: #008080\">        </span>│<span style=\"color: #800080; text-decoration-color: #800080\">        </span>│<span style=\"color: #008000; text-decoration-color: #008000\">        </span>│<span style=\"color: #000000; text-decoration-color: #000000\">        </span>│<span style=\"color: #000000; text-decoration-color: #000000\">        </span>│<span style=\"color: #000000; text-decoration-color: #000000\">        </span>│<span style=\"color: #000000; text-decoration-color: #000000\">        </span>│<span style=\"color: #000000; text-decoration-color: #000000\">        </span>│<span style=\"color: #000000; text-decoration-color: #000000\">        </span>│<span style=\"color: #000000; text-decoration-color: #000000\">        </span>│<span style=\"color: #000000; text-decoration-color: #000000\">       </span>│\n└──────┴────────┴────────┴────────┴────────┴────────┴────────┴────────┴────────┴────────┴────────┴────────┴───────┘\n</pre>\n"
                },
                "metadata": {}
              }
            ]
          }
        },
        "66f64b3870614104871f061e71993570": {
          "model_module": "@jupyter-widgets/base",
          "model_name": "LayoutModel",
          "model_module_version": "1.2.0",
          "state": {
            "_model_module": "@jupyter-widgets/base",
            "_model_module_version": "1.2.0",
            "_model_name": "LayoutModel",
            "_view_count": null,
            "_view_module": "@jupyter-widgets/base",
            "_view_module_version": "1.2.0",
            "_view_name": "LayoutView",
            "align_content": null,
            "align_items": null,
            "align_self": null,
            "border": null,
            "bottom": null,
            "display": null,
            "flex": null,
            "flex_flow": null,
            "grid_area": null,
            "grid_auto_columns": null,
            "grid_auto_flow": null,
            "grid_auto_rows": null,
            "grid_column": null,
            "grid_gap": null,
            "grid_row": null,
            "grid_template_areas": null,
            "grid_template_columns": null,
            "grid_template_rows": null,
            "height": null,
            "justify_content": null,
            "justify_items": null,
            "left": null,
            "margin": null,
            "max_height": null,
            "max_width": null,
            "min_height": null,
            "min_width": null,
            "object_fit": null,
            "object_position": null,
            "order": null,
            "overflow": null,
            "overflow_x": null,
            "overflow_y": null,
            "padding": null,
            "right": null,
            "top": null,
            "visibility": null,
            "width": null
          }
        }
      }
    }
  },
  "nbformat": 4,
  "nbformat_minor": 0
}